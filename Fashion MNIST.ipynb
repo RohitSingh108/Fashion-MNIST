{
 "cells": [
  {
   "cell_type": "code",
   "execution_count": 28,
   "metadata": {},
   "outputs": [
    {
     "name": "stdout",
     "output_type": "stream",
     "text": [
      "1.12.0\n"
     ]
    }
   ],
   "source": [
    "import tensorflow as tf\n",
    "print(tf.__version__)"
   ]
  },
  {
   "cell_type": "markdown",
   "metadata": {},
   "source": [
    "# Fashion MNIST data\n",
    "The Fashion MNIST data is available directly in the tf.keras datasets API"
   ]
  },
  {
   "cell_type": "code",
   "execution_count": 29,
   "metadata": {},
   "outputs": [],
   "source": [
    "mnist = tf.keras.datasets.fashion_mnist "
   ]
  },
  {
   "cell_type": "markdown",
   "metadata": {},
   "source": [
    "### Training and Test set \n",
    "Calling load_data will give 2 sets of 2 lists, these will be the training and testing values for the graphics that contain the clothing items and their labels."
   ]
  },
  {
   "cell_type": "code",
   "execution_count": 30,
   "metadata": {},
   "outputs": [],
   "source": [
    "(training_images, training_labels), (test_images, test_labels) = mnist.load_data() "
   ]
  },
  {
   "cell_type": "code",
   "execution_count": 31,
   "metadata": {},
   "outputs": [],
   "source": [
    "import matplotlib.pyplot as plt"
   ]
  },
  {
   "cell_type": "code",
   "execution_count": 32,
   "metadata": {},
   "outputs": [
    {
     "name": "stdout",
     "output_type": "stream",
     "text": [
      "4\n"
     ]
    }
   ],
   "source": [
    "print(training_labels[96])"
   ]
  },
  {
   "cell_type": "code",
   "execution_count": 33,
   "metadata": {},
   "outputs": [
    {
     "name": "stdout",
     "output_type": "stream",
     "text": [
      "[[  0   0   0   0   0   0   0   0   0  36  19  81 107 101 103  56  74 169\n",
      "  124  70   0   0   0   0   0   0   0   0]\n",
      " [  0   0   0   0   0   0   0   0 141 209 181 198 194 196 189 167 177 167\n",
      "  137 136  33   0   2   0   0   0   0   0]\n",
      " [  0   0   0   0   0   2   0  62 154  92 101 227 253 248 247 253 255  77\n",
      "   63 160  92   0   2   0   0   0   0   0]\n",
      " [  0   0   0   0   0   2   0  61 114 132  75  63 183 210 208 223 130 104\n",
      "  123 129  47   0   1   0   0   0   0   0]\n",
      " [  0   0   0   0   0   1   0  18 154 104 148 251  80  87 237  25  27  78\n",
      "  133 114  42   0   1   0   0   0   0   0]\n",
      " [  0   0   0   0   0   0   0  17 104 116 109  64  64  83  51  40  71  48\n",
      "   25  36  55  12   0   0   0   0   0   0]\n",
      " [  0   0   0   0   0   0   4  42  31  21  10  18  49  44  33  57  48  42\n",
      "   32  30  50  39   0   0   0   0   0   0]\n",
      " [  0   0   0   0   0   0  24  37  70  16  36  36  39  44  35  38  41  39\n",
      "   32  29  40  44   0   0   0   0   0   0]\n",
      " [  0   0   0   0   0   0  38  25  70  35  33  35  38  59  41  35  40  41\n",
      "   34  50  39  55  13   0   0   0   0   0]\n",
      " [  0   0   0   0   0   2  44  32  57  31  36  36  28  85  52  34  41  39\n",
      "   35  61  44  59  57   0   0   0   0   0]\n",
      " [  0   0   0   0   0   8  46  38  72  22  26  41  46  35  32  42  42  43\n",
      "   30  31  50  42  42   0   0   0   0   0]\n",
      " [  0   0   0   0   0  10  55  32  99  51  43  36  43  54  37  43  43  33\n",
      "   57  44  54  41  32   0   0   0   0   0]\n",
      " [  0   0   0   0   0  13  59  23  84  73  53  26  43  53  32  42  46  30\n",
      "   73  43  56  48  43   0   0   0   0   0]\n",
      " [  0   0   0   0   0  15  51  58  64  37  24  43  31 111  61  35  50  43\n",
      "   28  28  92  62  42   0   0   0   0   0]\n",
      " [  0   0   0   0   0  19  29  79  54  28  37  34  51  51  35  40  47  52\n",
      "   33  45  97  49  38   0   0   0   0   0]\n",
      " [  0   0   0   0   0  23  22  65  87  34  29  40  55  55  40  47  38  44\n",
      "   33  46  83  38  40   0   0   0   0   0]\n",
      " [  0   0   0   0   0  28  20  69 114  28  32  41  43  34  36  47  42  35\n",
      "   32  39  83  37  41   1   0   0   0   0]\n",
      " [  0   0   0   0   0  29  19  63 101  23  31  40  29  89  61  38  42  39\n",
      "   33  34  81  32  42   5   0   0   0   0]\n",
      " [  0   0   0   0   0  27  17  66 101  12  27  33  51  67  52  40  60  34\n",
      "   24  24  85  30  40   9   0   0   0   0]\n",
      " [  0   0   0   0   0  29  14  66  81  20  46  20  82  42  38  39  75  29\n",
      "   47  33  74  33  36  14   0   0   0   0]\n",
      " [  0   0   0   0   0  25  15  63  99  20  57  39  46  49  41  44  42  42\n",
      "   57  32  79  40  32  15   0   0   0   0]\n",
      " [  0   0   0   0   0  23  14  66  99  10  32  31  38  63  43  42  41  37\n",
      "   31  19  70  57  31  20   0   0   0   0]\n",
      " [  0   0   0   0   0  20  16  55 111  20  29  35  28  98  69  35  38  42\n",
      "   31  25  77  50  30  24   0   0   0   0]\n",
      " [  0   0   0   0   0  18  15  52 101  12  32  36  42  42  29  45  39  36\n",
      "   33  23  85  41  26  25   0   0   0   0]\n",
      " [  0   0   0   0   0  26  24  61 114  11  30  35  39  62  40  45  37  32\n",
      "   33  26  95  54  35  32   0   0   0   0]\n",
      " [  0   0   0   0   0  17  17  30  61  22  34  31  38  40  33  42  42  35\n",
      "   33  34  56  35  20  19   0   0   0   0]\n",
      " [  0   0   0   0   0   0   0   0  21  42  36  40  31 100  76  38  40  37\n",
      "   43  45   0   0   0   0   0   0   0   0]\n",
      " [  0   0   0   0   0   0   0   0   1   0   0   5 105   5   0  12 116   0\n",
      "    1   2   0   0   0   0   0   0   0   0]]\n"
     ]
    },
    {
     "data": {
      "text/plain": [
       "<matplotlib.image.AxesImage at 0x211a6340ba8>"
      ]
     },
     "execution_count": 33,
     "metadata": {},
     "output_type": "execute_result"
    },
    {
     "data": {
      "image/png": "[encoded data removed]",
      "text/plain": [
       "<Figure size 432x288 with 1 Axes>"
      ]
     },
     "metadata": {
      "needs_background": "light"
     },
     "output_type": "display_data"
    }
   ],
   "source": [
    "print(training_images[96])\n",
    "plt.imshow(training_images[96])"
   ]
  },
  {
   "cell_type": "code",
   "execution_count": 34,
   "metadata": {},
   "outputs": [
    {
     "name": "stdout",
     "output_type": "stream",
     "text": [
      "9\n",
      "#########################\n",
      "[[  0   0   0   0   0   0   0   0   0   0   0   0   0   0   0   0   0   0\n",
      "    0   0   0   0   0   0   0   0   0   0]\n",
      " [  0   0   0   0   0   0   0   0   0   0   0   0   0   0   0   0   0   0\n",
      "    0   0   0   0   0   0   0   0   0   0]\n",
      " [  0   0   0   0   0   0   0   0   0   0   0   0   0   0   0   0   0   0\n",
      "    0   0   0   0   0   0   0   0   0   0]\n",
      " [  0   0   0   0   0   0   0   0   0   0   0   0   1   0   0  13  73   0\n",
      "    0   1   4   0   0   0   0   1   1   0]\n",
      " [  0   0   0   0   0   0   0   0   0   0   0   0   3   0  36 136 127  62\n",
      "   54   0   0   0   1   3   4   0   0   3]\n",
      " [  0   0   0   0   0   0   0   0   0   0   0   0   6   0 102 204 176 134\n",
      "  144 123  23   0   0   0   0  12  10   0]\n",
      " [  0   0   0   0   0   0   0   0   0   0   0   0   0   0 155 236 207 178\n",
      "  107 156 161 109  64  23  77 130  72  15]\n",
      " [  0   0   0   0   0   0   0   0   0   0   0   1   0  69 207 223 218 216\n",
      "  216 163 127 121 122 146 141  88 172  66]\n",
      " [  0   0   0   0   0   0   0   0   0   1   1   1   0 200 232 232 233 229\n",
      "  223 223 215 213 164 127 123 196 229   0]\n",
      " [  0   0   0   0   0   0   0   0   0   0   0   0   0 183 225 216 223 228\n",
      "  235 227 224 222 224 221 223 245 173   0]\n",
      " [  0   0   0   0   0   0   0   0   0   0   0   0   0 193 228 218 213 198\n",
      "  180 212 210 211 213 223 220 243 202   0]\n",
      " [  0   0   0   0   0   0   0   0   0   1   3   0  12 219 220 212 218 192\n",
      "  169 227 208 218 224 212 226 197 209  52]\n",
      " [  0   0   0   0   0   0   0   0   0   0   6   0  99 244 222 220 218 203\n",
      "  198 221 215 213 222 220 245 119 167  56]\n",
      " [  0   0   0   0   0   0   0   0   0   4   0   0  55 236 228 230 228 240\n",
      "  232 213 218 223 234 217 217 209  92   0]\n",
      " [  0   0   1   4   6   7   2   0   0   0   0   0 237 226 217 223 222 219\n",
      "  222 221 216 223 229 215 218 255  77   0]\n",
      " [  0   3   0   0   0   0   0   0   0  62 145 204 228 207 213 221 218 208\n",
      "  211 218 224 223 219 215 224 244 159   0]\n",
      " [  0   0   0   0  18  44  82 107 189 228 220 222 217 226 200 205 211 230\n",
      "  224 234 176 188 250 248 233 238 215   0]\n",
      " [  0  57 187 208 224 221 224 208 204 214 208 209 200 159 245 193 206 223\n",
      "  255 255 221 234 221 211 220 232 246   0]\n",
      " [  3 202 228 224 221 211 211 214 205 205 205 220 240  80 150 255 229 221\n",
      "  188 154 191 210 204 209 222 228 225   0]\n",
      " [ 98 233 198 210 222 229 229 234 249 220 194 215 217 241  65  73 106 117\n",
      "  168 219 221 215 217 223 223 224 229  29]\n",
      " [ 75 204 212 204 193 205 211 225 216 185 197 206 198 213 240 195 227 245\n",
      "  239 223 218 212 209 222 220 221 230  67]\n",
      " [ 48 203 183 194 213 197 185 190 194 192 202 214 219 221 220 236 225 216\n",
      "  199 206 186 181 177 172 181 205 206 115]\n",
      " [  0 122 219 193 179 171 183 196 204 210 213 207 211 210 200 196 194 191\n",
      "  195 191 198 192 176 156 167 177 210  92]\n",
      " [  0   0  74 189 212 191 175 172 175 181 185 188 189 188 193 198 204 209\n",
      "  210 210 211 188 188 194 192 216 170   0]\n",
      " [  2   0   0   0  66 200 222 237 239 242 246 243 244 221 220 193 191 179\n",
      "  182 182 181 176 166 168  99  58   0   0]\n",
      " [  0   0   0   0   0   0   0  40  61  44  72  41  35   0   0   0   0   0\n",
      "    0   0   0   0   0   0   0   0   0   0]\n",
      " [  0   0   0   0   0   0   0   0   0   0   0   0   0   0   0   0   0   0\n",
      "    0   0   0   0   0   0   0   0   0   0]\n",
      " [  0   0   0   0   0   0   0   0   0   0   0   0   0   0   0   0   0   0\n",
      "    0   0   0   0   0   0   0   0   0   0]]\n"
     ]
    },
    {
     "data": {
      "image/png": "[encoded data removed]",
      "text/plain": [
       "<Figure size 432x288 with 1 Axes>"
      ]
     },
     "metadata": {
      "needs_background": "light"
     },
     "output_type": "display_data"
    }
   ],
   "source": [
    "import matplotlib.pyplot as plt\n",
    "plt.imshow(training_images[0])\n",
    "print(training_labels[0]) #Label is for output\n",
    "print(\"#########################\")\n",
    "print(training_images[0])"
   ]
  },
  {
   "cell_type": "markdown",
   "metadata": {},
   "source": [
    "## Normalizing\n",
    "Doing the process of \"Normalizing\". As all values are between 0-255. It is easy to to scale down and treat values between 0-1\n"
   ]
  },
  {
   "cell_type": "code",
   "execution_count": 35,
   "metadata": {},
   "outputs": [],
   "source": [
    "training_images  = training_images / 255.0 \n",
    "test_images = test_images / 255.0"
   ]
  },
  {
   "cell_type": "markdown",
   "metadata": {},
   "source": [
    "## Designing the Model "
   ]
  },
  {
   "cell_type": "code",
   "execution_count": 36,
   "metadata": {},
   "outputs": [],
   "source": [
    "model = tf.keras.models.Sequential([tf.keras.layers.Flatten(), \n",
    "                                    tf.keras.layers.Dense(128, activation=tf.nn.relu), \n",
    "                                    tf.keras.layers.Dense(10, activation=tf.nn.softmax)])"
   ]
  },
  {
   "cell_type": "markdown",
   "metadata": {},
   "source": [
    "Sequential: defines a sequence of layers in the neural network\n",
    "\n",
    "Flatten: Flatten takes square (example pixel of 28*28) and turns it into a 1 dimensional set, or a simple linear array\n",
    "\n",
    "Dense: It defines layer of connected neurons. \n",
    "\n",
    "Each layer of neurons need an activation function to tell them what to do. There's lots of options, but just use these for now.\n",
    "\n",
    "Relu or Rectified Linear Unit means \"If X>0 return X, else return 0\" -- so it only passes values 0 or greater to the next layer in the network.\n",
    "\n",
    "Softmax takes a set of values, and effectively picks the biggest one, so, for example, if the output of the last layer looks like [0.1, 0.1, 0.05, 0.1, 9.5, 0.1, 0.05, 0.05, 0.05], it saves you from fishing through it looking for the biggest value, and turns it into [0,0,0,0,1,0,0,0,0] \n",
    "\n",
    "There are 10 output neurons which represent 10 different labels"
   ]
  },
  {
   "cell_type": "markdown",
   "metadata": {},
   "source": [
    "## Training the Model "
   ]
  },
  {
   "cell_type": "markdown",
   "metadata": {},
   "source": [
    "Now for training, Neural Network at the start has no clue about the relation. So it starts to make guess using the data available. \"Loss function\" measures the difference in the data and the \"optimizer\" figures out how to make the next guess."
   ]
  },
  {
   "cell_type": "code",
   "execution_count": 37,
   "metadata": {},
   "outputs": [],
   "source": [
    "model.compile(optimizer = tf.train.AdamOptimizer(),\n",
    "              loss = 'sparse_categorical_crossentropy',\n",
    "              metrics=['accuracy'])"
   ]
  },
  {
   "cell_type": "code",
   "execution_count": 40,
   "metadata": {},
   "outputs": [
    {
     "name": "stdout",
     "output_type": "stream",
     "text": [
      "Epoch 1/50\n",
      "60000/60000 [==============================] - 5s 90us/step - loss: 0.2332 - acc: 0.9125\n",
      "Epoch 2/50\n",
      "60000/60000 [==============================] - 5s 91us/step - loss: 0.2244 - acc: 0.9158\n",
      "Epoch 3/50\n",
      "60000/60000 [==============================] - 6s 92us/step - loss: 0.2183 - acc: 0.9182\n",
      "Epoch 4/50\n",
      "60000/60000 [==============================] - 6s 93us/step - loss: 0.2121 - acc: 0.9207\n",
      "Epoch 5/50\n",
      "60000/60000 [==============================] - 6s 93us/step - loss: 0.2054 - acc: 0.9226\n",
      "Epoch 6/50\n",
      "60000/60000 [==============================] - 6s 95us/step - loss: 0.1986 - acc: 0.9261\n",
      "Epoch 7/50\n",
      "60000/60000 [==============================] - 6s 93us/step - loss: 0.1949 - acc: 0.9276\n",
      "Epoch 8/50\n",
      "60000/60000 [==============================] - 5s 91us/step - loss: 0.1890 - acc: 0.9292\n",
      "Epoch 9/50\n",
      "60000/60000 [==============================] - 6s 93us/step - loss: 0.1858 - acc: 0.9300\n",
      "Epoch 10/50\n",
      "60000/60000 [==============================] - 5s 90us/step - loss: 0.1794 - acc: 0.9324\n",
      "Epoch 11/50\n",
      "60000/60000 [==============================] - 6s 98us/step - loss: 0.1770 - acc: 0.9333\n",
      "Epoch 12/50\n",
      "60000/60000 [==============================] - 6s 94us/step - loss: 0.1702 - acc: 0.9373\n",
      "Epoch 13/50\n",
      "60000/60000 [==============================] - 6s 94us/step - loss: 0.1658 - acc: 0.9380\n",
      "Epoch 14/50\n",
      "60000/60000 [==============================] - 6s 96us/step - loss: 0.1621 - acc: 0.9382\n",
      "Epoch 15/50\n",
      "60000/60000 [==============================] - 6s 93us/step - loss: 0.1597 - acc: 0.9388\n",
      "Epoch 16/50\n",
      "60000/60000 [==============================] - 5s 89us/step - loss: 0.1562 - acc: 0.9413\n",
      "Epoch 17/50\n",
      "60000/60000 [==============================] - 6s 98us/step - loss: 0.1498 - acc: 0.9444\n",
      "Epoch 18/50\n",
      "60000/60000 [==============================] - 6s 95us/step - loss: 0.1506 - acc: 0.9435\n",
      "Epoch 19/50\n",
      "60000/60000 [==============================] - 6s 96us/step - loss: 0.1452 - acc: 0.9459\n",
      "Epoch 20/50\n",
      "60000/60000 [==============================] - 6s 93us/step - loss: 0.1424 - acc: 0.9468\n",
      "Epoch 21/50\n",
      "60000/60000 [==============================] - 5s 90us/step - loss: 0.1388 - acc: 0.9480\n",
      "Epoch 22/50\n",
      "60000/60000 [==============================] - 6s 97us/step - loss: 0.1363 - acc: 0.9487\n",
      "Epoch 23/50\n",
      "60000/60000 [==============================] - 6s 99us/step - loss: 0.1318 - acc: 0.9509\n",
      "Epoch 24/50\n",
      "60000/60000 [==============================] - 6s 96us/step - loss: 0.1286 - acc: 0.9515\n",
      "Epoch 25/50\n",
      "60000/60000 [==============================] - 6s 96us/step - loss: 0.1292 - acc: 0.9513\n",
      "Epoch 26/50\n",
      "60000/60000 [==============================] - 6s 97us/step - loss: 0.1263 - acc: 0.9521\n",
      "Epoch 27/50\n",
      "60000/60000 [==============================] - 6s 92us/step - loss: 0.1214 - acc: 0.9545\n",
      "Epoch 28/50\n",
      "60000/60000 [==============================] - 6s 100us/step - loss: 0.1199 - acc: 0.9553\n",
      "Epoch 29/50\n",
      "60000/60000 [==============================] - 6s 94us/step - loss: 0.1167 - acc: 0.9563\n",
      "Epoch 30/50\n",
      "60000/60000 [==============================] - 6s 94us/step - loss: 0.1152 - acc: 0.9570\n",
      "Epoch 31/50\n",
      "60000/60000 [==============================] - 6s 94us/step - loss: 0.1136 - acc: 0.9575\n",
      "Epoch 32/50\n",
      "60000/60000 [==============================] - 6s 93us/step - loss: 0.1112 - acc: 0.9586\n",
      "Epoch 33/50\n",
      "60000/60000 [==============================] - 6s 95us/step - loss: 0.1111 - acc: 0.9590\n",
      "Epoch 34/50\n",
      "60000/60000 [==============================] - 6s 96us/step - loss: 0.1084 - acc: 0.9594\n",
      "Epoch 35/50\n",
      "60000/60000 [==============================] - 6s 94us/step - loss: 0.1044 - acc: 0.9609\n",
      "Epoch 36/50\n",
      "60000/60000 [==============================] - 6s 96us/step - loss: 0.1033 - acc: 0.9610\n",
      "Epoch 37/50\n",
      "60000/60000 [==============================] - 6s 96us/step - loss: 0.1025 - acc: 0.9613\n",
      "Epoch 38/50\n",
      "60000/60000 [==============================] - 6s 93us/step - loss: 0.1017 - acc: 0.9621\n",
      "Epoch 39/50\n",
      "60000/60000 [==============================] - 6s 97us/step - loss: 0.0982 - acc: 0.9633\n",
      "Epoch 40/50\n",
      "60000/60000 [==============================] - 6s 94us/step - loss: 0.0970 - acc: 0.9637\n",
      "Epoch 41/50\n",
      "60000/60000 [==============================] - 5s 92us/step - loss: 0.0957 - acc: 0.9643\n",
      "Epoch 42/50\n",
      "60000/60000 [==============================] - 6s 100us/step - loss: 0.0937 - acc: 0.9648\n",
      "Epoch 43/50\n",
      "60000/60000 [==============================] - 6s 92us/step - loss: 0.0939 - acc: 0.9650\n",
      "Epoch 44/50\n",
      "60000/60000 [==============================] - 6s 93us/step - loss: 0.0924 - acc: 0.9652\n",
      "Epoch 45/50\n",
      "60000/60000 [==============================] - 6s 98us/step - loss: 0.0917 - acc: 0.9653\n",
      "Epoch 46/50\n",
      "60000/60000 [==============================] - 6s 97us/step - loss: 0.0868 - acc: 0.9680\n",
      "Epoch 47/50\n",
      "60000/60000 [==============================] - 6s 94us/step - loss: 0.0887 - acc: 0.9668\n",
      "Epoch 48/50\n",
      "60000/60000 [==============================] - 6s 96us/step - loss: 0.0873 - acc: 0.9680\n",
      "Epoch 49/50\n",
      "60000/60000 [==============================] - 5s 91us/step - loss: 0.0858 - acc: 0.9672\n",
      "Epoch 50/50\n",
      "60000/60000 [==============================] - 6s 96us/step - loss: 0.0822 - acc: 0.9694\n"
     ]
    },
    {
     "data": {
      "text/plain": [
       "<tensorflow.python.keras.callbacks.History at 0x211a631d780>"
      ]
     },
     "execution_count": 40,
     "metadata": {},
     "output_type": "execute_result"
    }
   ],
   "source": [
    "model.fit(training_images, training_labels, epochs=50)"
   ]
  },
  {
   "cell_type": "markdown",
   "metadata": {},
   "source": [
    "We train it by calling model.fit asking to fit our training data to our training labels.\n",
    "Means that it figures out the relationship between the training data and its actual labels, so in future if we have more data, then it can make a prediction for what that data would look like.\n",
    "\n",
    "We got accuracy of 96%, means it figured out a pattern between image and label that works 96% times."
   ]
  },
  {
   "cell_type": "markdown",
   "metadata": {},
   "source": [
    "## Model evaluation"
   ]
  },
  {
   "cell_type": "code",
   "execution_count": 42,
   "metadata": {},
   "outputs": [
    {
     "name": "stdout",
     "output_type": "stream",
     "text": [
      "10000/10000 [==============================] - 0s 48us/step\n"
     ]
    },
    {
     "data": {
      "text/plain": [
       "[0.5315462602853775, 0.8865]"
      ]
     },
     "execution_count": 42,
     "metadata": {},
     "output_type": "execute_result"
    }
   ],
   "source": [
    "model.evaluate(test_images, test_labels)"
   ]
  },
  {
   "cell_type": "markdown",
   "metadata": {},
   "source": [
    "Accuracy of 88%"
   ]
  },
  {
   "cell_type": "code",
   "execution_count": null,
   "metadata": {},
   "outputs": [],
   "source": []
  }
 ],
 "metadata": {
  "kernelspec": {
   "display_name": "Python 3",
   "language": "python",
   "name": "python3"
  },
  "language_info": {
   "codemirror_mode": {
    "name": "ipython",
    "version": 3
   },
   "file_extension": ".py",
   "mimetype": "text/x-python",
   "name": "python",
   "nbconvert_exporter": "python",
   "pygments_lexer": "ipython3",
   "version": "3.6.8"
  }
 },
 "nbformat": 4,
 "nbformat_minor": 2
}
