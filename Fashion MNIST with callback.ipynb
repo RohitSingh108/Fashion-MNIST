{
 "cells": [
  {
   "cell_type": "code",
   "execution_count": 32,
   "metadata": {},
   "outputs": [],
   "source": [
    "import tensorflow as tf"
   ]
  },
  {
   "cell_type": "code",
   "execution_count": 33,
   "metadata": {},
   "outputs": [],
   "source": [
    "def train_mnist():\n",
    "    \n",
    "    class myCallback(tf.keras.callbacks.Callback):\n",
    "        def on_epoch_end(self, epoch, logs={}):\n",
    "            if(logs.get('acc')>0.99):\n",
    "                print(\"\\nReached 99% accuracy so cancelling training!\")\n",
    "                self.model.stop_training = True\n",
    "\n",
    "    mnist = tf.keras.datasets.mnist\n",
    "    (training_images, training_labels), (test_images, test_labels) = mnist.load_data()\n",
    "\n",
    "    callbacks = myCallback()\n",
    "    training_images=training_images / 255.0\n",
    "    test_images=test_images/255.0\n",
    " \n",
    "\n",
    "    model = tf.keras.models.Sequential([\n",
    "            tf.keras.layers.Flatten(),\n",
    "            tf.keras.layers.Dense(128, activation='relu'),\n",
    "            tf.keras.layers.Dense(10, activation='softmax')\n",
    "    ])\n",
    "\n",
    "    model.compile(optimizer='adam', loss='sparse_categorical_crossentropy', metrics=['accuracy'])\n",
    "\n",
    "    history = model.fit(training_images, training_labels, epochs=20, callbacks=[callbacks])\n",
    "        \n",
    "    return history.epoch, history.history['acc'][-1]"
   ]
  },
  {
   "cell_type": "code",
   "execution_count": 34,
   "metadata": {},
   "outputs": [
    {
     "name": "stdout",
     "output_type": "stream",
     "text": [
      "Epoch 1/20\n",
      "60000/60000 [==============================] - 9s 147us/step - loss: 0.2507 - acc: 0.9281\n",
      "Epoch 2/20\n",
      "60000/60000 [==============================] - 8s 130us/step - loss: 0.1122 - acc: 0.9664\n",
      "Epoch 3/20\n",
      "60000/60000 [==============================] - 7s 123us/step - loss: 0.0767 - acc: 0.9764\n",
      "Epoch 4/20\n",
      "60000/60000 [==============================] - 7s 125us/step - loss: 0.0580 - acc: 0.9821\n",
      "Epoch 5/20\n",
      "60000/60000 [==============================] - 8s 129us/step - loss: 0.0437 - acc: 0.9867\n",
      "Epoch 6/20\n",
      "60000/60000 [==============================] - 7s 122us/step - loss: 0.0343 - acc: 0.9896\n",
      "Epoch 7/20\n",
      "59552/60000 [============================>.] - ETA: 0s - loss: 0.0285 - acc: 0.9905\n",
      "Reached 99% accuracy so cancelling training!\n",
      "60000/60000 [==============================] - 7s 118us/step - loss: 0.0284 - acc: 0.9906\n"
     ]
    },
    {
     "data": {
      "text/plain": [
       "([0, 1, 2, 3, 4, 5, 6], 0.9905666666666667)"
      ]
     },
     "execution_count": 34,
     "metadata": {},
     "output_type": "execute_result"
    }
   ],
   "source": [
    "train_mnist()"
   ]
  },
  {
   "cell_type": "code",
   "execution_count": null,
   "metadata": {},
   "outputs": [],
   "source": []
  },
  {
   "cell_type": "code",
   "execution_count": null,
   "metadata": {},
   "outputs": [],
   "source": []
  }
 ],
 "metadata": {
  "kernelspec": {
   "display_name": "Python 3",
   "language": "python",
   "name": "python3"
  },
  "language_info": {
   "codemirror_mode": {
    "name": "ipython",
    "version": 3
   },
   "file_extension": ".py",
   "mimetype": "text/x-python",
   "name": "python",
   "nbconvert_exporter": "python",
   "pygments_lexer": "ipython3",
   "version": "3.6.8"
  }
 },
 "nbformat": 4,
 "nbformat_minor": 2
}
